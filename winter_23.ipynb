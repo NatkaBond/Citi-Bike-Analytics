{
 "cells": [
  {
   "cell_type": "code",
   "execution_count": 22,
   "metadata": {},
   "outputs": [],
   "source": [
    "import pandas as pd\n",
    "import numpy as np\n",
    "\n",
    "# List of CSV files to clean and combine\n",
    "csv_files = [\n",
    "    \"JC-202212-citibike-tripdata.csv\",\n",
    "    \"JC-202301-citibike-tripdata.csv\",\n",
    "    \"JC-202302-citibike-tripdata.csv\"\n",
    "]\n",
    "\n",
    "# Define the needed columns\n",
    "needed_columns = [\n",
    "    'ride_id',\n",
    "    'rideable_type',\n",
    "    'started_at',\n",
    "    'ended_at',\n",
    "    'start_station_name',\n",
    "    'start_station_id',\n",
    "    'end_station_name',\n",
    "    'end_station_id',\n",
    "    'start_lat',\n",
    "    'start_lng',\n",
    "    'end_lat',\n",
    "    'end_lng',\n",
    "    'member_casual',\n",
    "    'age',\n",
    "    'birth_year'\n",
    "]\n",
    "\n",
    "cleaned_data = []\n",
    "\n",
    "for csv_file in csv_files:\n",
    "    df = pd.read_csv(csv_file)\n",
    "\n",
    "    # List the column names in the DataFrame\n",
    "    column_names = df.columns.tolist()\n",
    "\n",
    "    # Check if each needed column is in the DataFrame's columns\n",
    "    missing_columns = [col for col in needed_columns if col not in column_names]\n",
    "\n",
    "    # For demonstration, we'll add dummy age and birth_year columns\n",
    "    if 'age' not in column_names:\n",
    "        np.random.seed(0)\n",
    "        df['age'] = np.random.randint(18, 100, size=len(df))\n",
    "        df['birth_year'] = 2023 - df['age']\n",
    "\n",
    "    # Append the cleaned DataFrame to the list\n",
    "    cleaned_data.append(df)\n",
    "\n",
    "# Combine cleaned data into one DataFrame\n",
    "combined_df = pd.concat(cleaned_data, ignore_index=True)\n",
    "combined_df.to_csv(\"winter_23_with_age.csv\", index=False)\n"
   ]
  },
  {
   "cell_type": "markdown",
   "metadata": {},
   "source": [
    "Statistics"
   ]
  },
  {
   "cell_type": "code",
   "execution_count": 23,
   "metadata": {},
   "outputs": [],
   "source": [
    "import pandas as pd\n",
    "\n",
    "# Load the combined and cleaned dataset\n",
    "combined_df = pd.read_csv(\"winter_23_with_age.csv\")\n",
    "\n",
    "\n"
   ]
  },
  {
   "cell_type": "code",
   "execution_count": 24,
   "metadata": {},
   "outputs": [
    {
     "name": "stdout",
     "output_type": "stream",
     "text": [
      "Total number of trips: 155873\n"
     ]
    }
   ],
   "source": [
    "# Calculate basic statistics and metrics\n",
    "\n",
    "# 1. Total Number of Trips\n",
    "total_trips = combined_df.shape[0]\n",
    "print(\"Total number of trips:\", total_trips)\n",
    "\n"
   ]
  },
  {
   "cell_type": "code",
   "execution_count": 25,
   "metadata": {},
   "outputs": [
    {
     "name": "stdout",
     "output_type": "stream",
     "text": [
      "User type distribution:\n",
      " member    121454\n",
      "casual     34419\n",
      "Name: member_casual, dtype: int64\n"
     ]
    }
   ],
   "source": [
    "# 2. User Type Distribution\n",
    "user_type_counts = combined_df['member_casual'].value_counts()\n",
    "print(\"User type distribution:\\n\", user_type_counts)\n",
    "\n"
   ]
  },
  {
   "cell_type": "code",
   "execution_count": 26,
   "metadata": {},
   "outputs": [
    {
     "name": "stdout",
     "output_type": "stream",
     "text": [
      "\n",
      "Top 10 starting stations:\n",
      " Grove St PATH                                   8328\n",
      "Hoboken Terminal - River St & Hudson Pl         8059\n",
      "South Waterfront Walkway - Sinatra Dr & 1 St    4923\n",
      "Hoboken Terminal - Hudson St & Hudson Pl        4878\n",
      "City Hall - Washington St & 1 St                4160\n",
      "Bergen Ave & Sip Ave                            4046\n",
      "Hamilton Park                                   3393\n",
      "Newport PATH                                    3344\n",
      "Newport Pkwy                                    3222\n",
      "City Hall                                       3112\n",
      "Name: start_station_name, dtype: int64\n",
      "\n",
      "Top 10 ending stations:\n",
      " Grove St PATH                                   9133\n",
      "Hoboken Terminal - River St & Hudson Pl         7972\n",
      "South Waterfront Walkway - Sinatra Dr & 1 St    4980\n",
      "Hoboken Terminal - Hudson St & Hudson Pl        4878\n",
      "City Hall - Washington St & 1 St                4188\n",
      "Bergen Ave & Sip Ave                            3827\n",
      "Hamilton Park                                   3440\n",
      "Newport PATH                                    3358\n",
      "Newport Pkwy                                    3234\n",
      "Hoboken Ave at Monmouth St                      2994\n",
      "Name: end_station_name, dtype: int64\n",
      "\n",
      "Bottom 10 starting stations:\n",
      " 5 Corners Library          583\n",
      "Dey St                     549\n",
      "Lincoln Park               455\n",
      "York St & Marin Blvd       374\n",
      "Union St                   349\n",
      "Jackson Square             224\n",
      "2 St & Park Ave            147\n",
      "Grant Ave & MLK Dr         130\n",
      "Bergen Ave & Stegman St    117\n",
      "Mercer St & Spring St        1\n",
      "Name: start_station_name, dtype: int64\n",
      "\n",
      "Bottom 10 ending stations:\n",
      " Lexington Ave & E 24 St       1\n",
      "W 52 St & 11 Ave              1\n",
      "Whitehall St & Bridge St      1\n",
      "Spruce St & Nassau St         1\n",
      "Hudson St & Reade St          1\n",
      "E 50 St & Park Ave            1\n",
      "St Nicholas Ave & W 150 St    1\n",
      "E 1 St & Bowery               1\n",
      "W 76 St & Columbus Ave        1\n",
      "Pier 40 Dock Station          1\n",
      "Name: end_station_name, dtype: int64\n"
     ]
    }
   ],
   "source": [
    "# 3. Start Station and End Station Statistics\n",
    "\n",
    "# Most popular starting stations\n",
    "most_popular_start_stations = combined_df['start_station_name'].value_counts().head(10)\n",
    "print(\"\\nTop 10 starting stations:\\n\", most_popular_start_stations)\n",
    "\n",
    "# Most popular ending stations\n",
    "most_popular_end_stations = combined_df['end_station_name'].value_counts().head(10)\n",
    "print(\"\\nTop 10 ending stations:\\n\", most_popular_end_stations)\n",
    "\n",
    "# Least popular starting stations\n",
    "least_popular_start_stations = combined_df['start_station_name'].value_counts().tail(10)\n",
    "print(\"\\nBottom 10 starting stations:\\n\", least_popular_start_stations)\n",
    "\n",
    "# Least popular ending stations\n",
    "least_popular_end_stations = combined_df['end_station_name'].value_counts().tail(10)\n",
    "print(\"\\nBottom 10 ending stations:\\n\", least_popular_end_stations)\n",
    "\n"
   ]
  },
  {
   "cell_type": "code",
   "execution_count": 27,
   "metadata": {},
   "outputs": [
    {
     "name": "stdout",
     "output_type": "stream",
     "text": [
      "\n",
      "Mean trip duration (minutes): 11.464396549327551\n",
      "Median trip duration (minutes): 5.816666666666666\n",
      "Standard deviation of trip duration (minutes): 81.1094885317307\n"
     ]
    }
   ],
   "source": [
    "# 4. Trip Duration Statistics\n",
    "\n",
    "# Assuming you have a 'started_at' and 'ended_at' columns in datetime format\n",
    "combined_df['started_at'] = pd.to_datetime(combined_df['started_at'])\n",
    "combined_df['ended_at'] = pd.to_datetime(combined_df['ended_at'])\n",
    "combined_df['trip_duration_minutes'] = (combined_df['ended_at'] - combined_df['started_at']).dt.total_seconds() / 60\n",
    "\n",
    "# Calculate basic trip duration statistics\n",
    "mean_trip_duration = combined_df['trip_duration_minutes'].mean()\n",
    "median_trip_duration = combined_df['trip_duration_minutes'].median()\n",
    "std_deviation_trip_duration = combined_df['trip_duration_minutes'].std()\n",
    "\n",
    "print(\"\\nMean trip duration (minutes):\", mean_trip_duration)\n",
    "print(\"Median trip duration (minutes):\", median_trip_duration)\n",
    "print(\"Standard deviation of trip duration (minutes):\", std_deviation_trip_duration)"
   ]
  },
  {
   "cell_type": "code",
   "execution_count": 28,
   "metadata": {},
   "outputs": [],
   "source": [
    "# Create a new row for statistics as a DataFrame\n",
    "statistics_data = {\n",
    "    'Metric': ['Total Trips', 'Mean Trip Duration (minutes)', 'Median Trip Duration (minutes)', 'Std Deviation of Trip Duration (minutes)'],\n",
    "    'Value': [total_trips, mean_trip_duration, median_trip_duration, std_deviation_trip_duration]\n",
    "}\n",
    "\n",
    "statistics_df = pd.DataFrame(statistics_data)\n"
   ]
  },
  {
   "cell_type": "code",
   "execution_count": 29,
   "metadata": {},
   "outputs": [
    {
     "name": "stdout",
     "output_type": "stream",
     "text": [
      "Statistics data contains data.\n"
     ]
    }
   ],
   "source": [
    "# Check if statistics_data contains any data\n",
    "if not statistics_data['Metric'] or not statistics_data['Value']:\n",
    "    print(\"Statistics data is empty.\")\n",
    "else:\n",
    "    print(\"Statistics data contains data.\")"
   ]
  },
  {
   "cell_type": "code",
   "execution_count": 30,
   "metadata": {},
   "outputs": [
    {
     "name": "stdout",
     "output_type": "stream",
     "text": [
      "Contents of statistics_data:\n",
      "{'Metric': ['Total Trips', 'Mean Trip Duration (minutes)', 'Median Trip Duration (minutes)', 'Std Deviation of Trip Duration (minutes)'], 'Value': [155873, 11.464396549327551, 5.816666666666666, 81.1094885317307]}\n"
     ]
    }
   ],
   "source": [
    "# Print the contents of statistics_data\n",
    "print(\"Contents of statistics_data:\")\n",
    "print(statistics_data)"
   ]
  },
  {
   "cell_type": "code",
   "execution_count": 31,
   "metadata": {},
   "outputs": [],
   "source": [
    "# Concatenate the statistics DataFrame to the original DataFrame\n",
    "combined_df = pd.concat([combined_df, statistics_df], ignore_index=True)\n",
    "\n",
    "# Save the updated DataFrame to a new CSV file\n",
    "combined_df.to_csv(\"winter_23_with_statistics.csv\", index=False)\n"
   ]
  },
  {
   "cell_type": "code",
   "execution_count": null,
   "metadata": {},
   "outputs": [],
   "source": []
  }
 ],
 "metadata": {
  "kernelspec": {
   "display_name": "dev",
   "language": "python",
   "name": "python3"
  },
  "language_info": {
   "codemirror_mode": {
    "name": "ipython",
    "version": 3
   },
   "file_extension": ".py",
   "mimetype": "text/x-python",
   "name": "python",
   "nbconvert_exporter": "python",
   "pygments_lexer": "ipython3",
   "version": "3.10.11"
  }
 },
 "nbformat": 4,
 "nbformat_minor": 2
}
